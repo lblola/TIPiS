{
 "cells": [
  {
   "cell_type": "code",
   "execution_count": 4,
   "id": "4cba3515-3510-47f1-9489-9b2a2ecb84fd",
   "metadata": {
    "scrolled": true
   },
   "outputs": [
    {
     "name": "stdout",
     "output_type": "stream",
     "text": [
      "Mean Squared Error: 0.7463693425652542\n",
      "R^2 Score: -0.40661914560374846\n"
     ]
    }
   ],
   "source": [
    "import pandas as pd\n",
    "import numpy as np\n",
    "from sklearn.model_selection import train_test_split\n",
    "from sklearn.linear_model import LinearRegression\n",
    "from sklearn.metrics import mean_squared_error, r2_score\n",
    "import joblib\n",
    "\n",
    "data = pd.read_csv('https://docs.google.com/spreadsheets/d/e/2PACX-1vSwtRSENWPGvmhxTquVAfjsPteYZxdLqbffpuLg3cX3apP2AGj9NOXMxideCyQYlnxkOQ_4Y6nL1Wni/pub?output=csv')\n",
    "\n",
    "# Замените пустые значения на 0 или удалим строки с NaN\n",
    "data = data.fillna(0)\n",
    "\n",
    "# Определение целевой переменной и признаков\n",
    "X = data.drop(columns=['Итоговая оценка за экзамен по ТОЭ'])  \n",
    "y = data['Итоговая оценка за экзамен по ТОЭ']\n",
    "\n",
    "# Преобразование категориальных переменных в числовые\n",
    "X = pd.get_dummies(X, drop_first=True)\n",
    "\n",
    "# Разделение данных на обучающую и тестовую выборки\n",
    "X_train, X_test, y_train, y_test = train_test_split(X, y, test_size=0.2, random_state=42)\n",
    "\n",
    "# Создание модели регрессии\n",
    "model = LinearRegression()\n",
    "\n",
    "# Обучение модели\n",
    "model.fit(X_train, y_train)\n",
    "\n",
    "# Предсказания на тестовой выборке\n",
    "y_pred = model.predict(X_test)\n",
    "\n",
    "# Оценка ошибок предсказания\n",
    "mse = mean_squared_error(y_test, y_pred)\n",
    "r2 = r2_score(y_test, y_pred)\n",
    "\n",
    "print(f'Mean Squared Error: {mse}')\n",
    "print(f'R^2 Score: {r2}')\n",
    "\n",
    "\n"
   ]
  },
  {
   "cell_type": "code",
   "execution_count": null,
   "id": "b266db60-022f-4e44-ae95-f42381bbb2cc",
   "metadata": {},
   "outputs": [],
   "source": []
  }
 ],
 "metadata": {
  "kernelspec": {
   "display_name": "Python 3 (ipykernel)",
   "language": "python",
   "name": "python3"
  },
  "language_info": {
   "codemirror_mode": {
    "name": "ipython",
    "version": 3
   },
   "file_extension": ".py",
   "mimetype": "text/x-python",
   "name": "python",
   "nbconvert_exporter": "python",
   "pygments_lexer": "ipython3",
   "version": "3.12.6"
  }
 },
 "nbformat": 4,
 "nbformat_minor": 5
}
